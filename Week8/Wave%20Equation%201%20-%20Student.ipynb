{
 "cells": [
  {
   "cell_type": "markdown",
   "metadata": {},
   "source": [
    "### Deriving the equation for the shape of a string under load\n",
    "Begin by considering a problem: *Suppose you have string. Given that it is supported at its ends, is acted on by the force of gravity, and there is a known tension applied to the string, what will be its shape?*\n",
    "\n",
    "This question will lead us to develop a simple differential equation. Solving this equation will introduce us to a pair of solution techniques - *finite difference and finite element methods*.\n",
    "\n",
    "An infinitesimal force diagram of a length of string under tension yields two relations for the forces - one along the string, or longitudinal, and the other perpendicular to the string, or transverse. The force balances that result are seen by inspecting the triangles formed at the ends of the small segment of the string. They are\n",
    "\n",
    "$T(x) \\cos(\\theta_1) = T(x+\\Delta x)\\cos(\\theta_2) \\equiv T$\n",
    "\n",
    "$T(x) \\sin(\\theta_1) = T(x+\\Delta x)\\sin(\\theta_2) + f\\Delta x$\n",
    "\n",
    "The first equation tells us the longitudinal tension, $T$ is the same everywhere in the string. Applying this definition expressed in the first equation, gives\n",
    "\n",
    "$T(x+\\Delta x) = \\frac{T}{\\cos(\\theta_2)}$ and $T(x) = \\frac{T}{\\cos(\\theta_1)}$ \n",
    "\n",
    "which, when substituted into the second, transverse force balance gives\n",
    "\n",
    "$T\\tan(\\theta_1) = T \\tan(\\theta_2) + f\\Delta x$\n",
    "\n",
    "Recalling that slope is rise over run, or in terms of a triangle opposite over adjacent (which is the tangent) then substituting $\\tan(\\theta_1) = u'(x)$ and $\\tan(\\theta_2) = u'(x+\\Delta x)$ gives after rearranging: \n",
    "\n",
    "$T\\frac{u'(x+\\Delta x) - u'(x)}{\\Delta x} + f = 0$\n",
    "\n",
    "From this expression, identify the discrete forward difference approximation of the derivative. As $\\Delta x$ goes to zero, this becomes exact, and the equation describing the deformation of the string is\n",
    "\n",
    "$T\\frac{d^2u}{dx^2} = -f(x)$\n",
    "\n",
    "where the tension on the string is $T$ and the load on the string is $f(x)$. The focus of the remainder of the lesson is how this equation can be solved numerically.\n",
    "\n",
    "### Numerical solutions to the equation\n",
    "\n",
    "At this point, the critical change is from differential equation to system of linear equations. This entails working backwards through what we just did, returning to those discrete deriviates. However, from past experience, we know that the central difference will be more accurate than the forward difference. The finite difference formula for the second derivative is found by taking the central difference twice. It is\n",
    "\n",
    "$\\frac{d^u}{dx^2} = \\frac{u(x+h) - 2u(x) + u(x-h)}{h^2}$.\n",
    "\n",
    "Returning to the soution of the differential equation, if we represent space as a series of $x_i$, where $i$ specifies position $x = x_0+ih$, then we can rewrite the equation for the unknown function $u$ as\n",
    "\n",
    "$u_{i-1} - 2u_i + u_{i+1} = \\frac{f_i h^2}{T}$\n",
    "\n",
    "Where $f_i = f(x_i)$. Beginning at $x_0$, which correponds to $u_0 = u(x_0)$, a set of equations is formed. To simplify, define $g_i = \\frac{f_i h^2}{T}$. They look like:\n",
    "\n",
    "$-2u_1 + u_2 = g_1 - u_0$\n",
    "\n",
    "$u_1 - 2u_2 + u_3 = g_2$\n",
    "\n",
    "$u_2 - 2u_3 + u_4 = g_3$\n",
    "\n",
    "$\\vdots = \\vdots$\n",
    "\n",
    "$u_{N-3} - 2u_{N-2} + u_{N-1} = g_{N-2}$\n",
    "\n",
    "$u_{N-2} - 2u_{N-1} = g_{N-1} - u_N$\n",
    "\n",
    "\n",
    "Hopefully, you see the above for what it is - a system of linear equations. The $u_i$ form a vector of unknowns, which can be multiplied by a matrix of coefficients for the unknowns. The right-hand side is a vector of values derived from the load and tension on the string. This is more compactly written in matrix form as\n",
    "\n",
    "$\\begin{bmatrix}\n",
    "    -2 &  1 &   &  & \\\\\n",
    "    1  & -2 & 1 &  & \\\\\n",
    "    \\ddots& \\ddots&\\ddots &\\ddots &\\ddots      \\\\\n",
    "     &   &  1 & -2 & 1 \\\\\n",
    "     &  & & 1 & -2\n",
    "\\end{bmatrix} \n",
    "\\begin{bmatrix}\n",
    "u_1\\\\\n",
    "u_2\\\\\n",
    "\\vdots\\\\\n",
    "u_{N-2}\\\\\n",
    "u_{N-1}\n",
    "\\end{bmatrix}=\n",
    "\\begin{bmatrix}\n",
    "g_1 - u_0\\\\\n",
    "g_2\\\\\n",
    "\\vdots\\\\\n",
    "g_{N-2}\\\\\n",
    "g_{N-1} - u_N\n",
    "\\end{bmatrix}\n",
    "$\n",
    "\n",
    "Or, the matrix equation, where terms correspond to the left to right reading of the previous equation:\n",
    "\n",
    "$\\mathbf{A}\\mathbf{u} = \\mathbf{b}$\n",
    "\n",
    "What follows is a guided example to coding this solution. The technique applied is called the *finite differnce method* for solving a partial differential equation. Never mind that in this example it happens to be an ordinary differential equation, we'll expand the method soon enough. Go through what follows and in each place you find an XXX, try to replace it with functioning code."
   ]
  },
  {
   "cell_type": "code",
   "execution_count": 7,
   "metadata": {
    "collapsed": false
   },
   "outputs": [
    {
     "ename": "ValueError",
     "evalue": "x and y must have same first dimension, but have shapes (20,) and (402,)",
     "output_type": "error",
     "traceback": [
      "\u001b[0;31m---------------------------------------------------------------------------\u001b[0m",
      "\u001b[0;31mValueError\u001b[0m                                Traceback (most recent call last)",
      "\u001b[0;32m<ipython-input-7-8f57f5de26ba>\u001b[0m in \u001b[0;36m<module>\u001b[0;34m()\u001b[0m\n\u001b[1;32m     16\u001b[0m \u001b[0mu\u001b[0m \u001b[1;33m=\u001b[0m \u001b[0mnp\u001b[0m\u001b[1;33m.\u001b[0m\u001b[0minsert\u001b[0m\u001b[1;33m(\u001b[0m\u001b[0mu\u001b[0m\u001b[1;33m,\u001b[0m \u001b[1;33m[\u001b[0m\u001b[1;36m0\u001b[0m\u001b[1;33m,\u001b[0m \u001b[0mN\u001b[0m\u001b[1;33m-\u001b[0m\u001b[1;36m1\u001b[0m\u001b[1;33m]\u001b[0m\u001b[1;33m,\u001b[0m \u001b[1;33m[\u001b[0m\u001b[1;36m0\u001b[0m\u001b[1;33m,\u001b[0m \u001b[0mN\u001b[0m \u001b[1;33m-\u001b[0m \u001b[1;36m1\u001b[0m\u001b[1;33m]\u001b[0m\u001b[1;33m)\u001b[0m    \u001b[1;31m# insert BV at 1st and last pos\u001b[0m\u001b[1;33m\u001b[0m\u001b[0m\n\u001b[1;32m     17\u001b[0m \u001b[1;33m\u001b[0m\u001b[0m\n\u001b[0;32m---> 18\u001b[0;31m \u001b[0mplt\u001b[0m\u001b[1;33m.\u001b[0m\u001b[0mplot\u001b[0m\u001b[1;33m(\u001b[0m\u001b[0mx\u001b[0m\u001b[1;33m,\u001b[0m \u001b[0mu\u001b[0m\u001b[1;33m,\u001b[0m \u001b[0mlabel\u001b[0m\u001b[1;33m=\u001b[0m\u001b[1;34m'$f=-1$'\u001b[0m\u001b[1;33m)\u001b[0m\u001b[1;33m,\u001b[0m  \u001b[0mplt\u001b[0m\u001b[1;33m.\u001b[0m\u001b[0mlegend\u001b[0m\u001b[1;33m(\u001b[0m\u001b[0mloc\u001b[0m\u001b[1;33m=\u001b[0m\u001b[1;34m'center'\u001b[0m\u001b[1;33m)\u001b[0m   \u001b[1;31m# legend\u001b[0m\u001b[1;33m\u001b[0m\u001b[0m\n\u001b[0m\u001b[1;32m     19\u001b[0m \u001b[0mplt\u001b[0m\u001b[1;33m.\u001b[0m\u001b[0mxlabel\u001b[0m\u001b[1;33m(\u001b[0m\u001b[1;34m'$x$'\u001b[0m\u001b[1;33m)\u001b[0m\u001b[1;33m,\u001b[0m \u001b[0mplt\u001b[0m\u001b[1;33m.\u001b[0m\u001b[0mylabel\u001b[0m\u001b[1;33m(\u001b[0m\u001b[1;34m'$u$'\u001b[0m\u001b[1;33m)\u001b[0m\u001b[1;33m,\u001b[0m \u001b[0mplt\u001b[0m\u001b[1;33m.\u001b[0m\u001b[0mshow\u001b[0m\u001b[1;33m(\u001b[0m\u001b[1;33m)\u001b[0m\u001b[1;33m;\u001b[0m\u001b[1;33m\u001b[0m\u001b[0m\n\u001b[1;32m     20\u001b[0m \u001b[1;33m\u001b[0m\u001b[0m\n",
      "\u001b[0;32mC:\\Users\\falkz\\Anaconda3\\lib\\site-packages\\matplotlib\\pyplot.py\u001b[0m in \u001b[0;36mplot\u001b[0;34m(*args, **kwargs)\u001b[0m\n\u001b[1;32m   3316\u001b[0m                       mplDeprecation)\n\u001b[1;32m   3317\u001b[0m     \u001b[1;32mtry\u001b[0m\u001b[1;33m:\u001b[0m\u001b[1;33m\u001b[0m\u001b[0m\n\u001b[0;32m-> 3318\u001b[0;31m         \u001b[0mret\u001b[0m \u001b[1;33m=\u001b[0m \u001b[0max\u001b[0m\u001b[1;33m.\u001b[0m\u001b[0mplot\u001b[0m\u001b[1;33m(\u001b[0m\u001b[1;33m*\u001b[0m\u001b[0margs\u001b[0m\u001b[1;33m,\u001b[0m \u001b[1;33m**\u001b[0m\u001b[0mkwargs\u001b[0m\u001b[1;33m)\u001b[0m\u001b[1;33m\u001b[0m\u001b[0m\n\u001b[0m\u001b[1;32m   3319\u001b[0m     \u001b[1;32mfinally\u001b[0m\u001b[1;33m:\u001b[0m\u001b[1;33m\u001b[0m\u001b[0m\n\u001b[1;32m   3320\u001b[0m         \u001b[0max\u001b[0m\u001b[1;33m.\u001b[0m\u001b[0m_hold\u001b[0m \u001b[1;33m=\u001b[0m \u001b[0mwashold\u001b[0m\u001b[1;33m\u001b[0m\u001b[0m\n",
      "\u001b[0;32mC:\\Users\\falkz\\Anaconda3\\lib\\site-packages\\matplotlib\\__init__.py\u001b[0m in \u001b[0;36minner\u001b[0;34m(ax, *args, **kwargs)\u001b[0m\n\u001b[1;32m   1889\u001b[0m                     warnings.warn(msg % (label_namer, func.__name__),\n\u001b[1;32m   1890\u001b[0m                                   RuntimeWarning, stacklevel=2)\n\u001b[0;32m-> 1891\u001b[0;31m             \u001b[1;32mreturn\u001b[0m \u001b[0mfunc\u001b[0m\u001b[1;33m(\u001b[0m\u001b[0max\u001b[0m\u001b[1;33m,\u001b[0m \u001b[1;33m*\u001b[0m\u001b[0margs\u001b[0m\u001b[1;33m,\u001b[0m \u001b[1;33m**\u001b[0m\u001b[0mkwargs\u001b[0m\u001b[1;33m)\u001b[0m\u001b[1;33m\u001b[0m\u001b[0m\n\u001b[0m\u001b[1;32m   1892\u001b[0m         \u001b[0mpre_doc\u001b[0m \u001b[1;33m=\u001b[0m \u001b[0minner\u001b[0m\u001b[1;33m.\u001b[0m\u001b[0m__doc__\u001b[0m\u001b[1;33m\u001b[0m\u001b[0m\n\u001b[1;32m   1893\u001b[0m         \u001b[1;32mif\u001b[0m \u001b[0mpre_doc\u001b[0m \u001b[1;32mis\u001b[0m \u001b[1;32mNone\u001b[0m\u001b[1;33m:\u001b[0m\u001b[1;33m\u001b[0m\u001b[0m\n",
      "\u001b[0;32mC:\\Users\\falkz\\Anaconda3\\lib\\site-packages\\matplotlib\\axes\\_axes.py\u001b[0m in \u001b[0;36mplot\u001b[0;34m(self, *args, **kwargs)\u001b[0m\n\u001b[1;32m   1404\u001b[0m         \u001b[0mkwargs\u001b[0m \u001b[1;33m=\u001b[0m \u001b[0mcbook\u001b[0m\u001b[1;33m.\u001b[0m\u001b[0mnormalize_kwargs\u001b[0m\u001b[1;33m(\u001b[0m\u001b[0mkwargs\u001b[0m\u001b[1;33m,\u001b[0m \u001b[0m_alias_map\u001b[0m\u001b[1;33m)\u001b[0m\u001b[1;33m\u001b[0m\u001b[0m\n\u001b[1;32m   1405\u001b[0m \u001b[1;33m\u001b[0m\u001b[0m\n\u001b[0;32m-> 1406\u001b[0;31m         \u001b[1;32mfor\u001b[0m \u001b[0mline\u001b[0m \u001b[1;32min\u001b[0m \u001b[0mself\u001b[0m\u001b[1;33m.\u001b[0m\u001b[0m_get_lines\u001b[0m\u001b[1;33m(\u001b[0m\u001b[1;33m*\u001b[0m\u001b[0margs\u001b[0m\u001b[1;33m,\u001b[0m \u001b[1;33m**\u001b[0m\u001b[0mkwargs\u001b[0m\u001b[1;33m)\u001b[0m\u001b[1;33m:\u001b[0m\u001b[1;33m\u001b[0m\u001b[0m\n\u001b[0m\u001b[1;32m   1407\u001b[0m             \u001b[0mself\u001b[0m\u001b[1;33m.\u001b[0m\u001b[0madd_line\u001b[0m\u001b[1;33m(\u001b[0m\u001b[0mline\u001b[0m\u001b[1;33m)\u001b[0m\u001b[1;33m\u001b[0m\u001b[0m\n\u001b[1;32m   1408\u001b[0m             \u001b[0mlines\u001b[0m\u001b[1;33m.\u001b[0m\u001b[0mappend\u001b[0m\u001b[1;33m(\u001b[0m\u001b[0mline\u001b[0m\u001b[1;33m)\u001b[0m\u001b[1;33m\u001b[0m\u001b[0m\n",
      "\u001b[0;32mC:\\Users\\falkz\\Anaconda3\\lib\\site-packages\\matplotlib\\axes\\_base.py\u001b[0m in \u001b[0;36m_grab_next_args\u001b[0;34m(self, *args, **kwargs)\u001b[0m\n\u001b[1;32m    405\u001b[0m                 \u001b[1;32mreturn\u001b[0m\u001b[1;33m\u001b[0m\u001b[0m\n\u001b[1;32m    406\u001b[0m             \u001b[1;32mif\u001b[0m \u001b[0mlen\u001b[0m\u001b[1;33m(\u001b[0m\u001b[0mremaining\u001b[0m\u001b[1;33m)\u001b[0m \u001b[1;33m<=\u001b[0m \u001b[1;36m3\u001b[0m\u001b[1;33m:\u001b[0m\u001b[1;33m\u001b[0m\u001b[0m\n\u001b[0;32m--> 407\u001b[0;31m                 \u001b[1;32mfor\u001b[0m \u001b[0mseg\u001b[0m \u001b[1;32min\u001b[0m \u001b[0mself\u001b[0m\u001b[1;33m.\u001b[0m\u001b[0m_plot_args\u001b[0m\u001b[1;33m(\u001b[0m\u001b[0mremaining\u001b[0m\u001b[1;33m,\u001b[0m \u001b[0mkwargs\u001b[0m\u001b[1;33m)\u001b[0m\u001b[1;33m:\u001b[0m\u001b[1;33m\u001b[0m\u001b[0m\n\u001b[0m\u001b[1;32m    408\u001b[0m                     \u001b[1;32myield\u001b[0m \u001b[0mseg\u001b[0m\u001b[1;33m\u001b[0m\u001b[0m\n\u001b[1;32m    409\u001b[0m                 \u001b[1;32mreturn\u001b[0m\u001b[1;33m\u001b[0m\u001b[0m\n",
      "\u001b[0;32mC:\\Users\\falkz\\Anaconda3\\lib\\site-packages\\matplotlib\\axes\\_base.py\u001b[0m in \u001b[0;36m_plot_args\u001b[0;34m(self, tup, kwargs)\u001b[0m\n\u001b[1;32m    383\u001b[0m             \u001b[0mx\u001b[0m\u001b[1;33m,\u001b[0m \u001b[0my\u001b[0m \u001b[1;33m=\u001b[0m \u001b[0mindex_of\u001b[0m\u001b[1;33m(\u001b[0m\u001b[0mtup\u001b[0m\u001b[1;33m[\u001b[0m\u001b[1;33m-\u001b[0m\u001b[1;36m1\u001b[0m\u001b[1;33m]\u001b[0m\u001b[1;33m)\u001b[0m\u001b[1;33m\u001b[0m\u001b[0m\n\u001b[1;32m    384\u001b[0m \u001b[1;33m\u001b[0m\u001b[0m\n\u001b[0;32m--> 385\u001b[0;31m         \u001b[0mx\u001b[0m\u001b[1;33m,\u001b[0m \u001b[0my\u001b[0m \u001b[1;33m=\u001b[0m \u001b[0mself\u001b[0m\u001b[1;33m.\u001b[0m\u001b[0m_xy_from_xy\u001b[0m\u001b[1;33m(\u001b[0m\u001b[0mx\u001b[0m\u001b[1;33m,\u001b[0m \u001b[0my\u001b[0m\u001b[1;33m)\u001b[0m\u001b[1;33m\u001b[0m\u001b[0m\n\u001b[0m\u001b[1;32m    386\u001b[0m \u001b[1;33m\u001b[0m\u001b[0m\n\u001b[1;32m    387\u001b[0m         \u001b[1;32mif\u001b[0m \u001b[0mself\u001b[0m\u001b[1;33m.\u001b[0m\u001b[0mcommand\u001b[0m \u001b[1;33m==\u001b[0m \u001b[1;34m'plot'\u001b[0m\u001b[1;33m:\u001b[0m\u001b[1;33m\u001b[0m\u001b[0m\n",
      "\u001b[0;32mC:\\Users\\falkz\\Anaconda3\\lib\\site-packages\\matplotlib\\axes\\_base.py\u001b[0m in \u001b[0;36m_xy_from_xy\u001b[0;34m(self, x, y)\u001b[0m\n\u001b[1;32m    242\u001b[0m         \u001b[1;32mif\u001b[0m \u001b[0mx\u001b[0m\u001b[1;33m.\u001b[0m\u001b[0mshape\u001b[0m\u001b[1;33m[\u001b[0m\u001b[1;36m0\u001b[0m\u001b[1;33m]\u001b[0m \u001b[1;33m!=\u001b[0m \u001b[0my\u001b[0m\u001b[1;33m.\u001b[0m\u001b[0mshape\u001b[0m\u001b[1;33m[\u001b[0m\u001b[1;36m0\u001b[0m\u001b[1;33m]\u001b[0m\u001b[1;33m:\u001b[0m\u001b[1;33m\u001b[0m\u001b[0m\n\u001b[1;32m    243\u001b[0m             raise ValueError(\"x and y must have same first dimension, but \"\n\u001b[0;32m--> 244\u001b[0;31m                              \"have shapes {} and {}\".format(x.shape, y.shape))\n\u001b[0m\u001b[1;32m    245\u001b[0m         \u001b[1;32mif\u001b[0m \u001b[0mx\u001b[0m\u001b[1;33m.\u001b[0m\u001b[0mndim\u001b[0m \u001b[1;33m>\u001b[0m \u001b[1;36m2\u001b[0m \u001b[1;32mor\u001b[0m \u001b[0my\u001b[0m\u001b[1;33m.\u001b[0m\u001b[0mndim\u001b[0m \u001b[1;33m>\u001b[0m \u001b[1;36m2\u001b[0m\u001b[1;33m:\u001b[0m\u001b[1;33m\u001b[0m\u001b[0m\n\u001b[1;32m    246\u001b[0m             raise ValueError(\"x and y can be no greater than 2-D, but have \"\n",
      "\u001b[0;31mValueError\u001b[0m: x and y must have same first dimension, but have shapes (20,) and (402,)"
     ]
    }
   ],
   "source": [
    "from scipy.linalg import solve       # SciPy linear eqn solver\n",
    "import numpy as np, matplotlib.pyplot as plt\n",
    "\n",
    "N, u0, uN= 20, 0.0, 0.0       # number of intervals, boundary values\n",
    "x = np.linspace(u0, uN ,N)# grid, recall how a uniform spacing of N+1 points can be done\n",
    "h, T, f = ((uN - u0) / N) , 1.0, -1.0       # bin size, tension, load\n",
    "\n",
    "# Create the A matrix, study the documentation for diag.\n",
    "A = np.diag([-2] * N)                 # diagonal \n",
    "A += np.diag([1] * (N - 1), 1) + np.diag([1] * (N - 1), -1) # off diagonals\n",
    "\n",
    "b = np.array(A * x)                       # b matrix, study the derivation to determine the values\n",
    "b[0], b[-1] = 0, 0                  # boundary values, just in case\n",
    "\n",
    "u = solve(A, b)                         # solve     \n",
    "u = np.insert(u, [0, N-1], [0, N - 1])    # insert BV at 1st and last pos \n",
    "\n",
    "plt.plot(x, u, label='$f=-1$'),  plt.legend(loc='center')   # legend \n",
    "plt.xlabel('$x$'), plt.ylabel('$u$'), plt.show();\n",
    "\n",
    "                                                 "
   ]
  },
  {
   "cell_type": "markdown",
   "metadata": {
    "collapsed": true
   },
   "source": [
    "### Finite differencing exercises\n",
    "\n",
    "Now that you've completed the example code, try and accomplish the following:\n",
    "\n",
    "1. Run the code again for $f=-2$ produce a plot that includes the curves for $f=-1$ and $f=-2$.\n",
    "2. Solve for a load that increases linearly with distance from the origin; $f=-2x$. \n",
    "3. Solve for a quadratic load, $f(x) = -3x^2$. Try and anticipate the result before simply running the code. Plot the result on the same axes as the previous two problems."
   ]
  },
  {
   "cell_type": "code",
   "execution_count": null,
   "metadata": {
    "collapsed": true
   },
   "outputs": [],
   "source": []
  }
 ],
 "metadata": {
  "kernelspec": {
   "display_name": "Python 3",
   "language": "python",
   "name": "python3"
  },
  "language_info": {
   "codemirror_mode": {
    "name": "ipython",
    "version": 3
   },
   "file_extension": ".py",
   "mimetype": "text/x-python",
   "name": "python",
   "nbconvert_exporter": "python",
   "pygments_lexer": "ipython3",
   "version": "3.6.0"
  }
 },
 "nbformat": 4,
 "nbformat_minor": 2
}
