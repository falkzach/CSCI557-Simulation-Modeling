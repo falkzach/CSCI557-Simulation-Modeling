{
 "cells": [
  {
   "cell_type": "markdown",
   "metadata": {},
   "source": [
    "### Period of an anharmonic oscillator\n",
    "\n",
    "The simple harmonic oscillator crops up in many places.  Its\n",
    "behavior can be studied readily using analytic methods and it has the\n",
    "important property that its period of oscillation is a constant,\n",
    "independent of its amplitude, making it useful, for instance, for keeping\n",
    "time in watches and clocks.  Frequently in physics, however, we also come\n",
    "across anharmonic oscillators, whose period varies with amplitude and whose\n",
    "behavior cannot usually be calculated analytically.\n",
    "\n",
    "A general classical oscillator can be thought of as a particle in a concave\n",
    "potential well.  When disturbed, the particle will rock back and forth in\n",
    "the well.\n",
    "\n",
    "The harmonic oscillator corresponds to a quadratic potential $V(x) \\propto\n",
    "x^2$.  Any other form gives an anharmonic oscillator.  (Thus there are many\n",
    "different kinds of anharmonic oscillator, depending on the exact form of\n",
    "the potential.)\n",
    "\n",
    "One way to calculate the motion of an oscillator is to write down the\n",
    "equation for the conservation of energy in the system.  If the particle has\n",
    "mass $m$ and position $x$, then the total energy is equal to the sum of the\n",
    "kinetic and potential energies thus:\n",
    "\n",
    "$\n",
    "E = \\frac{1}{2} m \\biggl( { dx\\over dt} \\biggr)^2 + V(x).\n",
    "$\n",
    "\n",
    "Since the energy must be constant over time, this equation is effectively a\n",
    "(nonlinear) differential equation linking $x$ and $t$.\n",
    "\n",
    "Let us assume that the potential $V(x)$ is symmetric about $x=0$ and let us\n",
    "set our anharmonic oscillator going with amplitude $a$.  That is, at $t=0$\n",
    "we release it from rest at position $x=a$ and it swings back towards the\n",
    "origin.  Then at $t=0$ we have $dx/dt = 0$ and the equation above\n",
    "reads $E = V(a)$, which gives us the total energy of the particle in terms\n",
    "of the amplitude.\n",
    "\n",
    "1. When the particle reaches the origin for the first time, it has gone through one quarter of a period of the oscillator.  By rearranging the equation above for $dx/dt$ and then integrating with respect to $t$ from 0 to $\\frac{1}{4} T$, show that the period $T$ is given by $ T = \\sqrt{8m} \\int_0^a {dx\\over\\sqrt{V(a)-V(x)}}$. Do this using the \"Markdown\" mode of Jupyter notebook and Latex for equations. Look at the Markdown code for this section for hints, and do some Google searching. *This portion is worth 5 extra-credit points*\n",
    "2. Suppose the potential is $V(x)=x^4$ and the mass of the particle is $m=1$.  Write a Python function that calculates the period of the oscillator for given amplitude $a$ using Gaussian quadrature of order 20, then use your function to make a graph of the period for amplitudes ranging from $a=0$ to $a=2$.\n",
    "3. You should find that the oscillator gets faster as the amplitude increases, even though the particle has further to travel for larger amplitude.  And you should find that the period diverges as the amplitude goes to zero.  How do you explain these results? Make sure to answer this, use a Markdown section to write a clear statement.\n",
    "\n",
    "Notes: Recall that scipy.integrate has fixed_quad which will use Gaussian quadrature of a desired order to integrate. Do not do the integration at $a = 0$, it diverges. Make your plot as clear as possible for full credit."
   ]
  },
  {
   "cell_type": "markdown",
   "metadata": {
    "collapsed": false
   },
   "source": [
    "#### Extra Credit: Show Integration\n",
    "\n",
    "TODO: ...\n"
   ]
  },
  {
   "cell_type": "code",
   "execution_count": 9,
   "metadata": {
    "collapsed": false
   },
   "outputs": [
    {
     "data": {
      "image/png": "[encoded data removed]",
      "text/plain": [
       "<matplotlib.figure.Figure at 0x11b1f6658d0>"
      ]
     },
     "metadata": {},
     "output_type": "display_data"
    }
   ],
   "source": [
    "%matplotlib inline\n",
    "\n",
    "import scipy as sp\n",
    "import numpy as np\n",
    "import pylab as plt\n",
    "\n",
    "# the function integrated in 1.1, solving for period as a function of amplitude\n",
    "def T(f, m, a):\n",
    "    # handle divergance at 0\n",
    "    if(a==0):\n",
    "        return float('inf')\n",
    "    \n",
    "    # the easy part of the math\n",
    "    result = np.sqrt(8 * m)\n",
    "    \n",
    "    # the hard math\n",
    "    # inner function to be integrated\n",
    "    inner = lambda x, a, V: 1 / np.sqrt(V(a) - V(x))\n",
    "    # used to wrap the inner function and pass along f and a elegantly\n",
    "    wrap = lambda x: inner(x, a, f)\n",
    "    # integrate over range\n",
    "    integrand = sp.integrate.fixed_quad(wrap, 0, a)\n",
    "    result *= integrand[0]\n",
    "    return result\n",
    "\n",
    "# our given conditions\n",
    "V = lambda x: x**4\n",
    "m = 1\n",
    "\n",
    "a1 = 0.0\n",
    "a2 = 2.0\n",
    "n = 20\n",
    "\n",
    "\n",
    "# define the space over the amplitude\n",
    "a = np.linspace(a1, a2, num=n)\n",
    "\n",
    "# construct the function f to be T with our V and m, enables passing to map where lst is each a\n",
    "f = lambda lst: T(V, m, lst)\n",
    "\n",
    "# our period results, should be \n",
    "t = list(map(f, a))\n",
    "\n",
    "# do plot stuff\n",
    "plt.plot(a, t)\n",
    "plt.xlabel('Amplitude')\n",
    "plt.ylabel('Period')\n",
    "plt.show()"
   ]
  },
  {
   "cell_type": "markdown",
   "metadata": {},
   "source": [
    "#### Explanation of Behavior\n",
    "\n",
    "TODO: ..."
   ]
  },
  {
   "cell_type": "markdown",
   "metadata": {
    "collapsed": true
   },
   "source": [
    "### Electric field of a charge distribution\n",
    "\n",
    "Suppose we have a distribution of charges and we want to calculate\n",
    "the resulting electric field.  One way to do this is to first calculate the\n",
    "electric potential $\\phi$ and then take its gradient.  For a point\n",
    "charge $q$ at the origin, the electric potential at a distance $r$ from the\n",
    "origin is $\\phi=q/4\\pi\\epsilon_0 r$. Several point chanrges would be the sum of this formula applied to each charge in turn. The corresponding electric field is $\\vec{E} =\n",
    "-\\nabla\\phi$. The divergence operator is $\\nabla = \\frac{\\partial }{\\partial x} \\mathbf{i} + \\frac{\\partial}{\\partial y}\\mathbf{j}$, where $\\mathbf{i}$ is a unit vector in the $x$ direction, and $\\mathbf{j}$ is the unit vector in the $y$ direction.\n",
    "\n",
    "1. You have two charges, of $\\pm1\\,$C, $10\\,$cm apart.  Calculate the\n",
    "  resulting electric potential on a $1\\,\\textrm{m}\\times1\\,\\textrm{m}$\n",
    "  square plane surrounding the charges and passing through them.  Calculate\n",
    "  the potential at $1\\,$cm spaced points in a grid and make a\n",
    "  visualization on the screen of the potential using a density plot.\n",
    "2. Now calculate the partial derivatives of the potential with respect\n",
    "  to $x$ and $y$ and hence find the electric field in the $xy$ plane.  Make\n",
    "  a visualization of the field also.  This is a little trickier than\n",
    "  visualizing the potential, because the electric field has both magnitude\n",
    "  and direction. Use the quiver method in matplotlib, drawing a grid of arrows with\n",
    "  direction and length chosen to represent the field.\n",
    "\n",
    "Notes: The potential diverges when the charge rests on grid point. Avoid this by locating the charges off your grid points. Go back to the previous homework for functions to compute derivatives. Supposing you have E, the magnitude of the electric field, scale Ex and Ey with:\n",
    "\n",
    "r = E/40\n",
    "\n",
    "Ex[r>1]/=r[r>1]\n",
    "\n",
    "Ey[r>1]/=r[r>1]\n",
    "\n",
    "This will make the vector field easier to visualize, particularly if you limit the range of points plotted with\n",
    "\n",
    "plb.quiver(Ex[30:70,30:70],Ey[30:70,30:70])\n",
    "\n",
    "To compute the potential of a charge, suppose you have grids representing x and y, from meshgrid. Call them x and y, respectively. If the charge is at point p = (-0.049,0), then sqrt((x - p[0])\\*\\*2 + (y-p[1])\\*\\*2) is the distance from each mesh point to the charge. That is $r$ in the formula for the potential."
   ]
  },
  {
   "cell_type": "code",
   "execution_count": 18,
   "metadata": {
    "collapsed": false
   },
   "outputs": [
    {
     "name": "stdout",
     "output_type": "stream",
     "text": [
      "(0.49, 0.49, 1)\n",
      "(0.56071067811865472, 0.56071067811865472, -1)\n",
      "[array([[ 0.        ,  0.01010101,  0.02020202, ...,  0.97979798,\n",
      "         0.98989899,  1.        ],\n",
      "       [ 0.        ,  0.01010101,  0.02020202, ...,  0.97979798,\n",
      "         0.98989899,  1.        ],\n",
      "       [ 0.        ,  0.01010101,  0.02020202, ...,  0.97979798,\n",
      "         0.98989899,  1.        ],\n",
      "       ..., \n",
      "       [ 0.        ,  0.01010101,  0.02020202, ...,  0.97979798,\n",
      "         0.98989899,  1.        ],\n",
      "       [ 0.        ,  0.01010101,  0.02020202, ...,  0.97979798,\n",
      "         0.98989899,  1.        ],\n",
      "       [ 0.        ,  0.01010101,  0.02020202, ...,  0.97979798,\n",
      "         0.98989899,  1.        ]]), array([[ 0.        ,  0.        ,  0.        , ...,  0.        ,\n",
      "         0.        ,  0.        ],\n",
      "       [ 0.01010101,  0.01010101,  0.01010101, ...,  0.01010101,\n",
      "         0.01010101,  0.01010101],\n",
      "       [ 0.02020202,  0.02020202,  0.02020202, ...,  0.02020202,\n",
      "         0.02020202,  0.02020202],\n",
      "       ..., \n",
      "       [ 0.97979798,  0.97979798,  0.97979798, ...,  0.97979798,\n",
      "         0.97979798,  0.97979798],\n",
      "       [ 0.98989899,  0.98989899,  0.98989899, ...,  0.98989899,\n",
      "         0.98989899,  0.98989899],\n",
      "       [ 1.        ,  1.        ,  1.        , ...,  1.        ,\n",
      "         1.        ,  1.        ]])]\n"
     ]
    }
   ],
   "source": [
    "%matplotlib inline\n",
    "\n",
    "import scipy as sp\n",
    "import numpy as np\n",
    "import pylab as plt\n",
    "\n",
    "eps = np.finfo(float).eps\n",
    "\n",
    "d = 0.1 #0.1m\n",
    "c1 = (0.49, 0.49, 1) # x, y, c*\n",
    "c2 = (c1[0] + d * np.cos(np.deg2rad(45)),\n",
    "      c1[1] + d * np.sin(np.deg2rad(45)),\n",
    "      -1)\n",
    "\n",
    "print(c1)\n",
    "print(c2)\n",
    "\n",
    "\n",
    "a = 0 #\n",
    "b = 1 # meters\n",
    "n = 100 # 100 per meter, ie 1cm\n",
    "\n",
    "x = np.linspace(a, b, n)\n",
    "y = np.linspace(a, b, n)\n",
    "mesh = np.meshgrid(x, y)\n",
    "print(mesh)\n",
    "\n",
    "# plt.quiver(mesh)\n",
    "# plt.xlabel('Something')\n",
    "# plt.ylabel('Something')\n",
    "# plt.show()"
   ]
  },
  {
   "cell_type": "code",
   "execution_count": null,
   "metadata": {
    "collapsed": true
   },
   "outputs": [],
   "source": []
  }
 ],
 "metadata": {
  "kernelspec": {
   "display_name": "Python 3",
   "language": "python",
   "name": "python3"
  },
  "language_info": {
   "codemirror_mode": {
    "name": "ipython",
    "version": 3
   },
   "file_extension": ".py",
   "mimetype": "text/x-python",
   "name": "python",
   "nbconvert_exporter": "python",
   "pygments_lexer": "ipython3",
   "version": "3.6.0"
  }
 },
 "nbformat": 4,
 "nbformat_minor": 0
}
