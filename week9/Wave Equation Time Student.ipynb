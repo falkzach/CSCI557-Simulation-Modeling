{
 "cells": [
  {
   "cell_type": "markdown",
   "metadata": {},
   "source": [
    "### Solving the time-dependent wave equation explicitly\n",
    "\n",
    "Return to our previous derivation of the equation for the deflection of a string\n",
    "\n",
    "$T\\frac{d^2u}{dx^2} = -f(x)$\n",
    "\n",
    "From Newton's law, $\\mathbf{F} = m\\mathbf{a} = m \\frac{\\partial^2 x}{\\partial t^2}$, we have acceleration is the second derivative of the displacement. This is required for the case where the string is not in equilibrium. Therefore, the time dependent wave equation is with no load is\n",
    "\n",
    "$\\frac{\\partial^2 u}{\\partial t^2} = \\nu^2 \\frac{\\partial^2 u}{\\partial x^2}$\n",
    "\n",
    "where $\\nu = \\sqrt{\\frac{T}{\\rho}}$.\n",
    "\n",
    "We're interested in the numerical solution to this equation. As we did in the previous unit, let us assume that the solution on a grid can be described by $u(x,t) = u_i^j$ where $i$ is the grid point and $j$ is the time step. Then the descretization of the wave equation is\n",
    "\n",
    "$u_i^{j-1} - 2u_i^j + u_i^{j+1} = \\frac{\\nu^2 \\Delta t^2}{\\Delta x^2} \\left(u_{i-1}^j - 2u_i^j + u_{i+1}^j\\right)$\n",
    "\n",
    "where we have opted for an *explicit* approach this time. Some algebra is all that is required to get a recursion relation for the new position as a function of the old\n",
    "\n",
    "$u_i^{j+1} = 2(1-\\beta^2)u_i^j - u_i^{j-1} + \\beta^2(u_{i-1}^j + u_{i+1}^j),~~~\\beta = \\frac{\\nu\\Delta t}{\\Delta x}$.\n",
    "\n",
    "Observe that *there is no linear system* to solve in this case, it is simply a function that returns the value of the new soltion. This is nice, especially in cases where trivial parallelism is needed.\n",
    "\n",
    "Below, develop code to solve the time-dependent wave equation for a period of 100 time steps. Use $\\beta$ in a range from .5 to 1.2 and observe how different values impact the stability of the solution. For intial conditions use the Gaussian function $u(x,t=0) = u(x,t+\\Delta t) = e^{\\frac{(x-\\mu)}{2\\sigma^2}}$ where $\\mu = $ .5 and $\\sigma = $.05. *Note **two** previous solutions must be used now, because there is a second derivative on time.* The domain should be $0.0\\le x \\le 1.0$  and the solution fixed to a value of zero on the boundary.\n",
    "\n",
    "Note the skeleton of some code for animation is provided below. On linux, I had to install a package called 'ffmpeg' in order to get it to work.\n"
   ]
  },
  {
   "cell_type": "code",
   "execution_count": 5,
   "metadata": {
    "collapsed": false
   },
   "outputs": [],
   "source": [
    "%matplotlib inline\n",
    "import numpy as np\n",
    "import matplotlib.pyplot as plt\n",
    "from matplotlib import animation, rc\n",
    "from IPython.display import HTML\n",
    "\n",
    "beta = lambda v, dt, dx: v*dt/dx\n",
    "\n",
    "gaussian = lambda x, u = 0.5, ro = 0.05: np.exp((x-u)/(2*ro**2))\n",
    "\n",
    "def next_time_step(current, previous, left, right, beta):\n",
    "    a = 2*(1-beta**2)*current\n",
    "    b = previous\n",
    "    c = beta**2 * (left+right)\n",
    "    return a - b + c\n",
    "\n",
    "def step(current_state, prev_state, beta):\n",
    "    left = current_state[:-2]\n",
    "    right = current_state[2:]\n",
    "    current = current_state[1:-1]\n",
    "    previous = prev_state[1:-1]\n",
    "    \n",
    "    next_state = next_time_step(current, previous, left, right, beta)\n",
    "    \n",
    "def time_loop(initial1, initial2, beta):\n",
    "    state_list = [initial1, initial2]   \n",
    "    prev = initial1\n",
    "    current = initial2 \n",
    "    \n",
    "    time_steps = 100\n",
    "    for s in range(time_steps):\n",
    "        next_state = step(current, prev, beta)\n",
    "        prev = current\n",
    "        current = next_state\n",
    "        \n",
    "        state_list.append(current)\n",
    "        \n",
    "    return state_list\n",
    "        \n",
    "b_0 = .5\n",
    "b_max = 1.2\n",
    "b = b_0\n",
    "\n",
    "x_len\n",
    "dx = 1 / x_len\n",
    "initial1 = gaussian(np.array(x_len))\n",
    "initial2 = initial1\n",
    "\n",
    "state_list = time_loop(,,b)\n",
    "\n",
    "\n",
    "# Figure and axes to manipulate\n",
    "fig, ax = plt.subplots()\n",
    "\n",
    "#Limits\n",
    "ax.set_xlim((0, 1))\n",
    "ax.set_ylim((-1, 1))\n",
    "\n",
    "#Line to be altered in animation\n",
    "line, = ax.plot([], [],'k', lw=2)\n",
    "\n",
    "# initialization function: plot the background of each frame\n",
    "def init():\n",
    "    line.set_data([], [])\n",
    "    return (line,)\n",
    "\n",
    "def animate(i):\n",
    "    # Compute updates here!\n",
    "    line.set_data(x, un)\n",
    "    return (line,)\n",
    "\n",
    "# call the animator. blit=True means only re-draw the parts that have changed.\n",
    "anim = animation.FuncAnimation(fig, animate, init_func=init,\n",
    "                               frames=100, interval=20, blit=True)\n",
    "HTML(anim.to_html5_video())\n",
    "\n",
    "pass"
   ]
  },
  {
   "cell_type": "markdown",
   "metadata": {
    "collapsed": true
   },
   "source": [
    "#### Implicit solution\n",
    "\n",
    "Now use what you have learned in the past to solve the problem *implicity*. That is, solve \n",
    "\n",
    "$u_i^{j-1} - 2u_i^j + u_i^{j+1} = \\beta^2 \\left(u_{i-1}^{j+1} - 2u_i^{j+1} + u_{i+1}^{j+1}\\right)$\n",
    "\n",
    "by constructing a linear system and solving it with the same animation tools above. Use all the same parameters as used in the previous problem. What is the maximum $\\beta$ that yields a stable solution? What happens to the solution as a function of time? Why?"
   ]
  },
  {
   "cell_type": "code",
   "execution_count": null,
   "metadata": {
    "collapsed": false
   },
   "outputs": [],
   "source": []
  },
  {
   "cell_type": "markdown",
   "metadata": {},
   "source": [
    "#### Crank Nicolson\n",
    "\n",
    "Fix the numerical dispersion problem observed in the previous solutions with the Crank Nicolson method:\n",
    "\n",
    "$u_i^{j-1} - 2u_i^j + u_i^{j+1} = \\frac{\\beta^2}{2} \\left[\\left(u_{i-1}^{j+1} - 2u_i^{j+1} + u_{i+1}^{j+1}\\right)+\\left(u_{i-1}^{j} - 2u_i^{j} + u_{i+1}^{j}\\right)\\right]$.\n",
    "\n",
    "Which you should read as the average of the explicit and implicit methods.\n"
   ]
  },
  {
   "cell_type": "code",
   "execution_count": null,
   "metadata": {
    "collapsed": true
   },
   "outputs": [],
   "source": []
  }
 ],
 "metadata": {
  "kernelspec": {
   "display_name": "Python 3",
   "language": "python",
   "name": "python3"
  },
  "language_info": {
   "codemirror_mode": {
    "name": "ipython",
    "version": 3
   },
   "file_extension": ".py",
   "mimetype": "text/x-python",
   "name": "python",
   "nbconvert_exporter": "python",
   "pygments_lexer": "ipython3",
   "version": "3.6.0"
  }
 },
 "nbformat": 4,
 "nbformat_minor": 2
}
