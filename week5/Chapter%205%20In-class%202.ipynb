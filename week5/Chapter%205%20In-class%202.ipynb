{
 "cells": [
  {
   "cell_type": "markdown",
   "metadata": {},
   "source": [
    "### Exercise 5.7\n",
    "\n",
    "Consider the integral\n",
    "\n",
    "$I = \\int_0^1 \\sin^2 \\sqrt{100 x} dx$\n",
    "\n",
    "1. Write a program that uses the adaptive trapezoidal rule method of Section 5.3 and Eq. (5.34) to calculate the value of this integral to an approximate accuracy of $\\epsilon=10^{-6}$ (i.e.,correct to six digits after the decimal point). Start with one single integration slice and  work up from there to two, four, eight, and so forth.  Have your program\n",
    "  print out the number of slices, its estimate of the integral, and its  estimate of the error on the integral, for each value of the number of slices $N$, until the target accuracy is reached. (Hint: You should find the result is around $I=0.45$.)\n",
    "2. Now modify your program to evaluate the same integral using the Romberg integration technique described in this section.  Have your program print out a triangular table of values, as on page~161, of all the Romberg estimates of the integral.  Calculate the error on your estimates using Eq.~(5.49) and again continue the calculation until you reach an accuracy of~$\\epsilon=10^{-6}$.  You should find that the Romberg method reaches the required accuracy considerably faster than the trapezoidal rule alone."
   ]
  },
  {
   "cell_type": "code",
   "execution_count": 30,
   "metadata": {
    "collapsed": false
   },
   "outputs": [
    {
     "name": "stdout",
     "output_type": "stream",
     "text": [
      "(0.45583253230901299, 7.234953377140603e-14, 10485760)\n",
      "(0.4558325323090851, 1.0330117294415753e-10)\n"
     ]
    }
   ],
   "source": [
    "from numpy import linspace,sum,sin,sqrt\n",
    "from __future__ import division\n",
    "from scipy.integrate import quad\n",
    "\n",
    "def trapezoidal(f,a,b,N,adapt=False):\n",
    "    \"\"\"\n",
    "    Reference implementation. Note the function handle, f\n",
    "    INPUTS:\n",
    "    f = function handle\n",
    "    a = lower limit on integration\n",
    "    b = upper limit on integration\n",
    "    N = number of trapezoids to sum over.\n",
    "    \"\"\"\n",
    "    x = linspace(a,b,N+1) \n",
    "    h = (b-a) / N\n",
    "    if not adapt:\n",
    "        fx = f(x)           # Evaluate all the function values at one time. Faster.\n",
    "        return h*(sum(fx[1:-1])+(fx[0]+fx[-1])/2.)  # Use formula to compute solution\n",
    "    else:\n",
    "        fx = f(x[1:-1:2]) # only the odd terms, no first, no last\n",
    "        return h * sum(fx)\n",
    "    \n",
    "def addaptive_trap(f,a,b, N = 10, err=1e-6):\n",
    "    err_i = 1\n",
    "    I_im1 = trapezoidal(f,a,b,N)\n",
    "    while err_i > err:\n",
    "        N = N * 2\n",
    "        I_i = .5 * I_im1 + trapezoidal(f,a,b,N,adapt=True)\n",
    "        err_i = 1/3 * abs(I_i-I_im1)\n",
    "        I_im1 = I_i\n",
    "    return I_i,err_i,N\n",
    "\n",
    "f = lambda x: sin(sqrt(100*x))**2\n",
    "\n",
    "\n",
    "print addaptive_trap(f,0,1,err=1e-13)\n",
    "#print trapezoidal(f,0,1,655360)\n",
    "print quad(f,0,1,epsrel=1e-16)"
   ]
  },
  {
   "cell_type": "code",
   "execution_count": 17,
   "metadata": {
    "collapsed": false
   },
   "outputs": [
    {
     "name": "stdout",
     "output_type": "stream",
     "text": [
      "(0.45583253230908444, 2.5911079564429563e-14)\n",
      "(0.4558325323090851, 1.0330117294415753e-10)\n"
     ]
    }
   ],
   "source": [
    "from numpy import empty\n",
    "\n",
    "def findError(R,i):\n",
    "    m = i\n",
    "    return abs(1/(4**m -1)*(R[i,m] - R[i-1,m]))\n",
    "\n",
    "def rhomberg(f,a,b,N=10,err_tol=1e-6):\n",
    "    R = empty((500,500))\n",
    "    R[0,0] = trapezoidal(f,a,b,N)\n",
    "    N *= 2\n",
    "    R[1,0] = 1/2 * R[0,0] + trapezoidal(f,a,b,N, adapt=True)\n",
    "    R[1,1] = R[1,0] + 1/3*(R[1,0] - R[0,0])\n",
    "    i = 1\n",
    "    while findError(R,i) > err_tol:\n",
    "        N*=2\n",
    "        i+=1\n",
    "        R[i,0] = 1/2 * R[i-1,0] + trapezoidal(f,a,b,N,adapt=True)\n",
    "        for m in range(1,i+1):\n",
    "            R[i,m] = R[i,m-1] + 1 / (4**m-1) * (R[i,m-1] - R[i-1,m-1])\n",
    "        #print R[i,:m]\n",
    "    return R[i,i],findError(R,i)\n",
    "\n",
    "print rhomberg(f,0,1,err_tol=1e-13)\n",
    "print quad(f,0,1,epsrel=1e-16)"
   ]
  },
  {
   "cell_type": "markdown",
   "metadata": {},
   "source": [
    "### Exercise 5.9: Heat capacity of a solid\n",
    "\n",
    "Debye's theory of solids gives the heat capacity of a solid at temperature $T$ to be\n",
    "\n",
    "$C_V = 9V\\rho k_B \\biggl( {T\\over\\theta_D} \\biggr)^3 \\int_0^{\\theta_D/T}{x^4 e^x\\over(e^x-1)^2}dx$,\n",
    "\n",
    "where $V$ is the volume of the solid, $\\rho$ is the number density of atoms, $k_B$ is Boltzmann's constant, and $\\theta_D$ is the so-called *Debye temperature*, a property of solids that depends on their density and speed of sound.\n",
    "\n",
    "1. Write a Python function **cv(T)** that calculates $C_V$ for a given value of the temperature, for a sample consisting of 1000 cubic centimeters of solid aluminum, which has a number density of $\\rho=6.022\\times10^{28}\\,\\mathrm{m}^{-3}$ and a Debye temperature of $\\theta_D=428\\,$K.  Use Gaussian quadrature to evaluate the integral, with $N=50$ sample points.\n",
    "2. Use your function to make a graph of the heat capacity as a function of temperature from $T=5\\,$K to $T=500\\,$K.\n",
    "\n",
    "For this problem, do not use the textbook's Gaussian quadrature funtion. Instead, use the functions from [scipy](https://docs.scipy.org/doc/scipy-0.18.1/reference/generated/scipy.integrate.fixed_quad.html#scipy.integrate.fixed_quad) that integrate using Gaussian quadrature. "
   ]
  },
  {
   "cell_type": "code",
   "execution_count": 28,
   "metadata": {
    "collapsed": false
   },
   "outputs": [
    {
     "data": {
      "image/png": "[encoded data removed]",
      "text/plain": [
       "<matplotlib.figure.Figure at 0xa1acc88>"
      ]
     },
     "metadata": {},
     "output_type": "display_data"
    }
   ],
   "source": [
    "from pylab import plot,exp,show,xlabel,ylabel\n",
    "from scipy.integrate import fixed_quad\n",
    "\n",
    "def Cv(T):\n",
    "    fi = lambda x: x**4*exp(x) / (exp(x)-1)**2\n",
    "    rho = 6.022e28\n",
    "    theta_d = 428\n",
    "    kb = 1.38064852e-23\n",
    "    V = 0.001\n",
    "    integral,err = fixed_quad(fi,0,theta_d/T)\n",
    "    return 9*V*rho*kb*(T/theta_d)**3*integral\n",
    "\n",
    "C = []\n",
    "temps = range(5,500)\n",
    "for T in temps:\n",
    "    C.append(Cv(T))\n",
    "    \n",
    "plot(temps,C,'k-')\n",
    "xlabel(r\"Temperature ($^\\circ$K)\")\n",
    "ylabel(r\"Heat Capacity\")\n",
    "show()"
   ]
  },
  {
   "cell_type": "code",
   "execution_count": null,
   "metadata": {
    "collapsed": true
   },
   "outputs": [],
   "source": [
    ""
   ]
  }
 ],
 "metadata": {
  "anaconda-cloud": {},
  "kernelspec": {
   "display_name": "Python [default]",
   "language": "python",
   "name": "python2"
  },
  "language_info": {
   "codemirror_mode": {
    "name": "ipython",
    "version": 2.0
   },
   "file_extension": ".py",
   "mimetype": "text/x-python",
   "name": "python",
   "nbconvert_exporter": "python",
   "pygments_lexer": "ipython2",
   "version": "2.7.12"
  }
 },
 "nbformat": 4,
 "nbformat_minor": 0
}