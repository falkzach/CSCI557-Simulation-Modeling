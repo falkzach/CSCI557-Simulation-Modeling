{
 "cells": [
  {
   "cell_type": "markdown",
   "metadata": {},
   "source": [
    "### Exercise 4.2 Quadratic equations\n",
    "\n",
    "1) Write a program that takes as input three numbers, $a$, $b$,and $c$, and prints out the two solutions to the quadratic equation $ax^2+bx+c=0$ using the standard formula\n",
    "\n",
    "$x = {-b \\pm \\sqrt{b^2-4ac}\\over2a}$.\n",
    "\n",
    "Use your program to compute the solutions of $0.001 x^2 + 1000 x + 0.001 =\n",
    "0$.\n",
    "\n",
    "2) There is another way to write the solutions to a quadratic equation. Multiplying top and bottom of the solution above by $-b\\mp\\sqrt{b^2-4ac}$, show that the solutions can also be written as\n",
    "\n",
    "$x = {2c\\over-b\\mp\\sqrt{b^2-4ac}}$.\n",
    "\n",
    "Add further lines to your program to print out these values in addition to\n",
    "the earlier ones and again use the program to solve $0.001 x^2 + 1000 x +\n",
    "0.001 = 0$.  What do you see?  How do you explain it?\n",
    "\n",
    "3) Using what you have learned, write a new program that calculates both\n",
    "  roots of a quadratic equation accurately in all cases.\n",
    " \n",
    "This is a good example of how computers don't always work the way you\n",
    "expect them to.  If you simply apply the standard formula for the quadratic\n",
    "equation, the computer will sometimes get the wrong answer.  In practice\n",
    "the method you have worked out here is the correct way to solve a quadratic\n",
    "equation on a computer, even though it's more complicated than the standard\n",
    "formula.  If you were writing a program that involved solving many\n",
    "quadratic equations this method might be a good candidate for a\n",
    "user-defined function: you could put the details of the solution method\n",
    "inside a function to save yourself the trouble of going through it step by\n",
    "step every time you have a new equation to solve.\n",
    "\n",
    "**HINT:** *It is simple to go through each of the terms in the quadratic equation, consider the magnitude with suggested inputs, and identify where two numbers of very similar magnitude are being subtracted. That will be the source of error. Your strategy will be to reduce the error by avoiding the problematic subtraction.*\n"
   ]
  },
  {
   "cell_type": "code",
   "execution_count": 6,
   "metadata": {
    "collapsed": false
   },
   "outputs": [
    {
     "name": "stdout",
     "output_type": "stream",
     "text": [
      "(-9.999894245993346e-07, -999999.99999899999, -1.0000000000010001e-06, -1000010.5755125057)\n",
      "(-999999.99999899999, -1.0000000000010001e-06)\n"
     ]
    }
   ],
   "source": [
    "# From the Chapter 2 notes, we had:\n",
    "from numpy import sqrt\n",
    "\n",
    "def quadratic(a,b,c):\n",
    "    d = b**2-4*a*c\n",
    "    if d < 0:\n",
    "        r = complex(0,sqrt(-d))\n",
    "    else:\n",
    "        r = sqrt(d)\n",
    "    return (-b+r)/(2.*a),(-b-r)/(2.*a)\n",
    "\n",
    "# Try what is suggested:\n",
    "print quadratic(.001,1000,.001)\n",
    "\n",
    "# Now, fix it!\n",
    "def quadratic_improved(a,b,c):"
   ]
  },
  {
   "cell_type": "markdown",
   "metadata": {},
   "source": [
    "### Exercise 4.3: Calculating Derivatives\n",
    "\n",
    "Suppose we have a function $f(x)$ and we want to calculate its derivative at a point $x$.  We can do that with pencil and paper if we know the mathematical form of the function, or we can do it on the computer by making use of the definition of the derivative:\n",
    "\n",
    "$\\frac{df}{dx} = \\lim_{\\delta\\to0} {f(x+\\delta)-f(x)\\over\\delta}$.\n",
    "\n",
    "On the computer we can't actually take the limit as $\\delta$ goes to\n",
    "zero, but we can get a reasonable approximation just by making $\\delta$\n",
    "small.\n",
    "\n",
    "\n",
    "1. Write a program that defines a function $f(x)$ returning the\n",
    "  value $x(x-1)$, then calculates the derivative of the function at the\n",
    "  point $x=1$ using the formula above with $\\delta=10^{-2}$.  Calculate\n",
    "  the true value of the same derivative analytically and compare with the\n",
    "  answer your program gives.  The two will not agree perfectly.  Why not?\n",
    "2.  Repeat the calculation for $\\delta=10^{-4}$, $10^{-6}$, $10^{-8}$,\n",
    "  $10^{-10}$, $10^{-12}$, and $10^{-14}$.  You should see that the accuracy\n",
    "  of the calculation initially gets better as $\\delta$ gets smaller, but\n",
    "  then gets worse again.  Why is this?\n",
    "\n",
    "We will look at numerical derivatives in more detail in Section 5.10, where\n",
    "we will study techniques for dealing with these issues and maximizing the\n",
    "accuracy of our calculations.\n",
    "\n",
    "**NOTE:** *To improve as a programmer, lookup and implement the solution using 1) a lambda function for f, 2) a function handle to a function to find the derivative, 3) a default arguement for the parameter delta, and 4) the logspace function for the set of deltas. See the instructor if you have trouble.*\n"
   ]
  },
  {
   "cell_type": "code",
   "execution_count": 13,
   "metadata": {
    "collapsed": false
   },
   "outputs": [
    {
     "name": "stdout",
     "output_type": "stream",
     "text": [
      "0.01 0.01\n",
      "0.0001 9.99999998899e-05\n",
      "1e-06 9.9991773328e-07\n",
      "1e-08 3.92252874626e-09\n",
      "1e-10 8.28403710074e-08\n",
      "1e-12 8.89005833413e-05\n",
      "1e-14 -0.000799277837349\n"
     ]
    }
   ],
   "source": [
    "from numpy import logspace"
   ]
  },
  {
   "cell_type": "code",
   "execution_count": null,
   "metadata": {
    "collapsed": true
   },
   "outputs": [],
   "source": [
    ""
   ]
  }
 ],
 "metadata": {
  "anaconda-cloud": {},
  "kernelspec": {
   "display_name": "Python [default]",
   "language": "python",
   "name": "python2"
  },
  "language_info": {
   "codemirror_mode": {
    "name": "ipython",
    "version": 2.0
   },
   "file_extension": ".py",
   "mimetype": "text/x-python",
   "name": "python",
   "nbconvert_exporter": "python",
   "pygments_lexer": "ipython2",
   "version": "2.7.12"
  }
 },
 "nbformat": 4,
 "nbformat_minor": 0
}