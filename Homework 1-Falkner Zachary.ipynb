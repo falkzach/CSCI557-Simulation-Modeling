{
 "cells": [
  {
   "cell_type": "markdown",
   "metadata": {
    "collapsed": true
   },
   "source": [
    "### Exercise 3.6 Least-squares fitting and the photoelectric effect\n",
    "\n",
    "\n",
    "It's a common situation in physics that an experiment produces data\n",
    "that lies roughly on a straight line, like the dots in this figure:\n",
    "\n",
    "<*see textbook*>\n",
    "\n",
    "The solid line here represents the underlying straight-line form, which we usually don't know, and the points representing the measured data lie roughly along the line but don't fall exactly on it, typically because of measurement error.\n",
    "\n",
    "The straight line can be represented in the familiar form $y=mx+c$ and a frequent question is what the appropriate values of the slope $m$ and\n",
    "intercept $c$ are that correspond to the measured data.  Since the data\n",
    "don't fall perfectly on a straight line, there is no perfect answer to such a question, but we can find the straight line that gives the best\n",
    "compromise fit to the data.  The standard technique for doing this is the *method of least squares*.\n",
    "\n",
    "Suppose we make some guess about the parameters $m$ and $c$ for the\n",
    "straight line.  We then calculate the vertical distances between the data points and that line, as represented by the short vertical lines in the figure, then we calculate the sum of the squares of those distances, which we denote $\\chi^2$.  If we have $N$ data points with\n",
    "coordinates $(x_i,y_i)$, then $\\chi^2$ is given by\n",
    "\n",
    "$$\\chi^2 = \\sum_{i=1}^N (mx_i+c-y_i)^2.$$\n",
    "\n",
    "The least-squares fit of the straight line to the data is the straight line that minimizes this total squared distance from data to line.  We find the minimum by differentiating with respect to both $m$ and $c$ and setting the derivatives to zero, which gives\n",
    "\n",
    "$$m\\sum_{i=1}^N x_i^2 + c \\sum_{i=1}^N x_i - \\sum_{i=1}^N x_iy_i = 0$$,\n",
    "\n",
    "$$m\\sum_{i=1}^N x_i + cN - \\sum_{i=1}^N y_i = 0.$$\n",
    "\n",
    "For convenience, let us define the following quantities:\n",
    "\n",
    "$$E_x = {1\\over N} \\sum_{i=1}^N x_i,\\qquad$$\n",
    "$$E_y = {1\\over N} \\sum_{i=1}^N y_i,\\qquad$$\n",
    "$$E_{xx} = {1\\over N} \\sum_{i=1}^N x_i^2,\\qquad$$\n",
    "$$E_{xy} = {1\\over N} \\sum_{i=1}^N x_iy_i,$$\n",
    "\n",
    "in terms of which our equations can be written\n",
    "\n",
    "\n",
    "$$mE_{xx} + cE_x = E_{xy},$$\n",
    "$$mE_x + c = E_y$$.\n",
    "\n",
    "Solving these equations simultaneously for $m$ and $c$ now gives\n",
    "\n",
    "$$m = {E_{xy}-E_x E_y\\over E_{xx} - E_x^2}$$,\n",
    "$$c = {E_{xx}E_y-E_x E_{xy}\\over E_{xx} - E_x^2}$$.\n",
    "\n",
    "These are the equations for the least-squares fit of a straight line to $N$ data points.  They tell you the values of $m$ and $c$ for the line that best fits the given data.\n",
    "\n",
    "1. In the on-line resources you will find a file called **millikan.txt**.  The file contains two columns of numbers, giving the $x$ and $y$ coordinates of a set of data points.  Write a program to read these data points and make a graph with one dot or circle for each point.\n",
    "2. Add code to your program, before the part that makes the graph, to calculate the quantities $E_x$, $E_y$, $E_{xx}$, and $E_{xy}$ defined above, and from them calculate and print out the slope $m$ and intercept $c$ of the best-fit line.\n",
    "3. Now write code that goes through each of the data points in turn and evaluates the quantity $mx_i+c$ using the values of $m$ and $c$ that you calculated.  Store these values in a new array or list, and then graph this new array, as a solid line, on the same plot as the original data. You should end up with a plot of the data points plus a straight line that runs through them.\n",
    "4. The data in the file **millikan.txt** are taken from a historic experiment by Robert Millikan that measured the **photoelectric effect**. When light of an appropriate wavelength is shone on the surface of a metal, the photons in the light can strike conduction electrons in the metal and, sometimes, eject them from the surface into the free space above.  The energy of an ejected electron is equal to the energy of the photon that struck it minus a small amount $\\phi$ called the *work function* of the surface, which represents the energy needed to remove an electron from the surface.  The energy of a photon is $h\\nu$, where $h$ is Planck's constant and $\\nu$ is the frequency of the light, and we can measure the energy of an ejected electron by measuring the voltage $V$ that is just sufficient to stop the electron moving.  Then the voltage, frequency, and work function are related by the equation\n",
    "\n",
    "$$ V = {h\\over e}\\nu - \\phi,$$\n",
    "\n",
    "where $e$ is the charge on the electron.  This equation was first given by Albert Einstein in 1905.\n",
    "\n",
    "The data in the file **millikan.txt** represent frequencies $\\nu$ in\n",
    "hertz (first column) and voltages $V$ in volts (second column) from\n",
    "photoelectric measurements of this kind.  Using the equation above and the program you wrote, and given that the charge on the electron is\n",
    "$1.602\\times10^{-19}\\,$C, calculate from Millikan's experimental data a\n",
    "value for Planck's constant.  Compare your value with the accepted value of the constant, which you can find in books or on-line.  You should get a result within a couple of percent of the accepted value.\n",
    "\n",
    "This calculation is essentially the same as the one that Millikan himself used to determine of the value of Planck's constant, although, lacking a computer, he fitted his straight line to the data by eye.  In part for this work, Millikan was awarded the Nobel prize in physics in 1923.\n"
   ]
  },
  {
   "cell_type": "code",
   "execution_count": 17,
   "metadata": {
    "collapsed": false
   },
   "outputs": [
    {
     "data": {
      "image/png": "[encoded data removed]",
      "text/plain": [
       "<matplotlib.figure.Figure at 0x7f0ba5767dd0>"
      ]
     },
     "metadata": {},
     "output_type": "display_data"
    },
    {
     "name": "stdout",
     "output_type": "stream",
     "text": [
      "Plank's constant is about:  6.54934022835e-34\n",
      "Modern value is 6.62607004e-34\n"
     ]
    }
   ],
   "source": [
    "# Lookup the followin functions in the matplotlib documentation \n",
    "# and use them here;\n",
    "# plot,xlabel,ylabel,title, legend\n",
    "# all of these can be imported from pylab\n",
    "# \n",
    "# also learn to use numpy's mean function for Ex,Ey, etc.\n",
    "#\n",
    "# finally, learn to print latex strings in matplotlib by\n",
    "# adding an 'r' to the begining of the string and escaping\n",
    "# with the $ characters, eg xlabel(r\"$\\nu\")"
   ]
  },
  {
   "cell_type": "markdown",
   "metadata": {
    "collapsed": true
   },
   "source": [
    "### Jesse problem: The SATOR square\n",
    "\n",
    "Spend some time reading about this:\n",
    "\n",
    "S A T O R\n",
    "\n",
    "A R E P O\n",
    "\n",
    "T E N E T\n",
    "\n",
    "O P E R A\n",
    "\n",
    "R O T A S\n",
    "\n",
    "the so-called \"SATOR\" square. The [wikipedia page](https://en.wikipedia.org/wiki/Sator_Square) is informative.\n",
    "\n",
    "Find all SATOR like squares in the English language. A list of all common five letter words comes courtesy Scrabble freaks. One can be found [here](http://www.poslarchive.com/math/scrabble/lists/common-5.html).\n",
    "\n",
    "Because AREPO is a proper noun, try and improve results by expanding the list of 5 letter words to include proper nouns. "
   ]
  },
  {
   "cell_type": "code",
   "execution_count": 7,
   "metadata": {
    "collapsed": false
   },
   "outputs": [
    {
     "name": "stdout",
     "output_type": "stream",
     "text": [
      "semes\nedile\nminim\nelide\nsemes\n\n\nsemes\nelide\nminim\nedile\nsemes\n\n\nCount:  2\n"
     ]
    }
   ],
   "source": [
    "# Begin by reading the file, one line at a time. For example:\n",
    "inFile = open('five letter words.txt', 'rb', 0)\n",
    "words = []\n",
    "for line in inFile:\n",
    "    # Figure out how to fill the list 'words'. Look at 'string'\n",
    "    # and 'split' to help. Write for loops over lists of strings with\n",
    "    # for word in list_of_words:\n",
    "    tokens = line.decode().rstrip().split(' ')\n",
    "    words.extend(tokens)\n",
    "\n",
    "inFile.close()  # a good idea to do!\n",
    "\n",
    "# Find all palidromes in list (this is the center):\n",
    "# recognize that string characters can be accessed like\n",
    "# list elements word[start:stop:step]\n",
    "# reversing a word can be done by stepping through it backwards\n",
    "palindromes = [x for x in words if x == x[::-1]]\n",
    "\n",
    "\n",
    "# Find all words that have meaning when spelled backwards\n",
    "# similar to finding palindromes\n",
    "reverses = [x for x in words if x[::-1] in words]\n",
    "\n",
    "# Heavily nested loops over word lists, checking if \"SATORness\" is\n",
    "# preserved. When it is, print the square and count it.\n",
    "# At the end, report how many you find.\n",
    "\n",
    "sators = 0\n",
    "\n",
    "for palindrome in palindromes:\n",
    "    satorSquare = [['' for x in range(len(palindrome))] for y in range(len(palindrome))]\n",
    "    chars = list(palindrome)\n",
    "    satorSquare[2] = chars\n",
    "\n",
    "    # fill center cross with palindrome\n",
    "    for i in range(0, len(palindrome)):\n",
    "        satorSquare[2][i] = chars[i]\n",
    "        satorSquare[i][2] = chars[i]\n",
    "\n",
    "    # find inside word that works\n",
    "    # find words for center from reverses by checking letters at index 2\n",
    "    centerChar = palindrome[1]\n",
    "    seconds = [x for x in reverses if x[2] == centerChar]\n",
    "\n",
    "    # find outside word that works\n",
    "    # find words for outer from reverses by checking letters at index 1 and 3\n",
    "    if (len(seconds)):\n",
    "        for second in seconds:\n",
    "            # print(\"second:\", second)\n",
    "            secondChars = list(second)\n",
    "            secondCharsReversed = list(reversed(second))\n",
    "            for i in range(0, len(palindrome)):\n",
    "                satorSquare[1][i] = secondChars[i]\n",
    "                satorSquare[i][1] = secondChars[i]\n",
    "                satorSquare[3][i] = secondCharsReversed[i]\n",
    "                satorSquare[i][3] = secondCharsReversed[i]\n",
    "\n",
    "            leftChar = secondChars[0]\n",
    "            middleChar = palindrome[0]\n",
    "            rightChar = secondCharsReversed[0]\n",
    "            # print(leftChar, middleChar, rightChar)\n",
    "\n",
    "            thirds = [x for x in reverses if x[1] == leftChar and x[2] == middleChar and x[3] == rightChar]\n",
    "            # print(\"thirds:\", thirds)\n",
    "\n",
    "            if(len(thirds)):\n",
    "                for third in thirds:\n",
    "                    thirdChars = list(third)\n",
    "                    thirdCharsReversed = list(reversed(third))\n",
    "\n",
    "                    for i in range(0, len(palindrome)):\n",
    "                        satorSquare[0][i] = thirdChars[i]\n",
    "                        satorSquare[i][0] = thirdChars[i]\n",
    "                        satorSquare[4][i] = thirdCharsReversed[i]\n",
    "                        satorSquare[i][4] = thirdCharsReversed[i]\n",
    "\n",
    "                    for row in satorSquare:\n",
    "                        print(''.join(row))\n",
    "                    print('\\n')\n",
    "                    sators += 1\n",
    "\n",
    "print(\"Count: \", sators)"
   ]
  },
  {
   "cell_type": "code",
   "execution_count": null,
   "metadata": {
    "collapsed": true
   },
   "outputs": [],
   "source": [
    ""
   ]
  }
 ],
 "metadata": {
  "kernelspec": {
   "display_name": "Python 2",
   "language": "python",
   "name": "python2"
  },
  "language_info": {
   "codemirror_mode": {
    "name": "ipython",
    "version": 2.0
   },
   "file_extension": ".py",
   "mimetype": "text/x-python",
   "name": "python",
   "nbconvert_exporter": "python",
   "pygments_lexer": "ipython2",
   "version": "2.7.12"
  }
 },
 "nbformat": 4,
 "nbformat_minor": 0
}